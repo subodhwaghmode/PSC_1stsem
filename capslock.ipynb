{
 "cells": [
  {
   "cell_type": "code",
   "execution_count": 2,
   "id": "65f2023e-f231-41af-961c-6fb3fe0bee63",
   "metadata": {},
   "outputs": [],
   "source": [
    "name=\"subodh\""
   ]
  },
  {
   "cell_type": "code",
   "execution_count": 13,
   "id": "0800eab5-5371-4030-98ed-c96c5388fd2b",
   "metadata": {},
   "outputs": [
    {
     "data": {
      "text/plain": [
       "'incapslock'"
      ]
     },
     "execution_count": 13,
     "metadata": {},
     "output_type": "execute_result"
    }
   ],
   "source": [
    "name\n"
   ]
  },
  {
   "cell_type": "code",
   "execution_count": null,
   "id": "90f30463-e378-4b48-9190-e5a48f5ff590",
   "metadata": {},
   "outputs": [],
   "source": []
  }
 ],
 "metadata": {
  "kernelspec": {
   "display_name": "Python 3 (ipykernel)",
   "language": "python",
   "name": "python3"
  },
  "language_info": {
   "codemirror_mode": {
    "name": "ipython",
    "version": 3
   },
   "file_extension": ".py",
   "mimetype": "text/x-python",
   "name": "python",
   "nbconvert_exporter": "python",
   "pygments_lexer": "ipython3",
   "version": "3.12.4"
  }
 },
 "nbformat": 4,
 "nbformat_minor": 5
}
