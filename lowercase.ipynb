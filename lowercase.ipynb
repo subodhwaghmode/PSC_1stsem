{
 "cells": [
  {
   "cell_type": "code",
   "execution_count": 1,
   "id": "a028162e-2095-4e23-86f7-bc73cbdb8057",
   "metadata": {},
   "outputs": [],
   "source": [
    "name=\"subodh\""
   ]
  },
  {
   "cell_type": "code",
   "execution_count": 2,
   "id": "0b60f1ec-eb6e-4bd1-b8df-1cc89b62c10b",
   "metadata": {},
   "outputs": [
    {
     "data": {
      "text/plain": [
       "'subodh'"
      ]
     },
     "execution_count": 2,
     "metadata": {},
     "output_type": "execute_result"
    }
   ],
   "source": [
    "name"
   ]
  },
  {
   "cell_type": "code",
   "execution_count": 3,
   "id": "9bd9ebfd-05da-41d8-867d-fea8a0ac8fff",
   "metadata": {},
   "outputs": [],
   "source": [
    "# converte it into capslock"
   ]
  },
  {
   "cell_type": "code",
   "execution_count": 7,
   "id": "edbce33d-dcd2-4604-97c2-48507acfed09",
   "metadata": {},
   "outputs": [
    {
     "data": {
      "text/plain": [
       "'SUBODH'"
      ]
     },
     "execution_count": 7,
     "metadata": {},
     "output_type": "execute_result"
    }
   ],
   "source": [
    "name.upper()"
   ]
  },
  {
   "cell_type": "code",
   "execution_count": 11,
   "id": "307de44f-dc2c-49e9-8dd9-56ad0dd5a258",
   "metadata": {},
   "outputs": [
    {
     "data": {
      "text/plain": [
       "'subodh'"
      ]
     },
     "execution_count": 11,
     "metadata": {},
     "output_type": "execute_result"
    }
   ],
   "source": [
    "name.lower()"
   ]
  },
  {
   "cell_type": "code",
   "execution_count": 12,
   "id": "87cca479-b835-4bff-879c-58267cbcf3f2",
   "metadata": {},
   "outputs": [],
   "source": [
    "name= name.lower()"
   ]
  },
  {
   "cell_type": "code",
   "execution_count": 18,
   "id": "0825c799-c45b-4770-ad41-c50b7ae24c27",
   "metadata": {},
   "outputs": [],
   "source": [
    "name1 = \"SUBodh WaGhmode\""
   ]
  },
  {
   "cell_type": "code",
   "execution_count": 19,
   "id": "ece17557-2ccd-4b6b-aeee-a894232514ca",
   "metadata": {},
   "outputs": [
    {
     "data": {
      "text/plain": [
       "'SUBodh WaGhmode'"
      ]
     },
     "execution_count": 19,
     "metadata": {},
     "output_type": "execute_result"
    }
   ],
   "source": [
    "name1"
   ]
  },
  {
   "cell_type": "code",
   "execution_count": 20,
   "id": "aaa90ca5-3dce-4107-81fb-8e7e2d261a15",
   "metadata": {},
   "outputs": [],
   "source": [
    "# capital letter should become small & vise versa"
   ]
  },
  {
   "cell_type": "code",
   "execution_count": 21,
   "id": "bcb4e19e-cb48-4521-8fb9-f0eca0156435",
   "metadata": {},
   "outputs": [
    {
     "data": {
      "text/plain": [
       "'subODH wAgHMODE'"
      ]
     },
     "execution_count": 21,
     "metadata": {},
     "output_type": "execute_result"
    }
   ],
   "source": [
    "name1.swapcase()"
   ]
  },
  {
   "cell_type": "code",
   "execution_count": 23,
   "id": "2b4f15cd-33ea-43d2-8baa-ee371d9bfbf5",
   "metadata": {},
   "outputs": [],
   "source": [
    "name2 = \"     subodh   waghmode      \""
   ]
  },
  {
   "cell_type": "code",
   "execution_count": 24,
   "id": "7d3ce5bf-3ffb-4926-85d2-ce9a1a8ca9a5",
   "metadata": {},
   "outputs": [
    {
     "data": {
      "text/plain": [
       "'     subodh   waghmode      '"
      ]
     },
     "execution_count": 24,
     "metadata": {},
     "output_type": "execute_result"
    }
   ],
   "source": [
    "name2"
   ]
  },
  {
   "cell_type": "code",
   "execution_count": 25,
   "id": "7e03fbca-2907-4c35-8fbc-9c15d1297cfc",
   "metadata": {},
   "outputs": [],
   "source": [
    "# remove left space\n",
    "# remove right space\n",
    "# remove both left & right space"
   ]
  },
  {
   "cell_type": "code",
   "execution_count": 34,
   "id": "8abef9d4-e8bd-4175-bb2a-bb245879ad3b",
   "metadata": {},
   "outputs": [
    {
     "data": {
      "text/plain": [
       "'subodh   waghmode      '"
      ]
     },
     "execution_count": 34,
     "metadata": {},
     "output_type": "execute_result"
    }
   ],
   "source": [
    "name2.lstrip( )"
   ]
  },
  {
   "cell_type": "code",
   "execution_count": 35,
   "id": "25fd86e1-2677-4436-8002-d7cb361365ee",
   "metadata": {},
   "outputs": [
    {
     "data": {
      "text/plain": [
       "'     subodh   waghmode'"
      ]
     },
     "execution_count": 35,
     "metadata": {},
     "output_type": "execute_result"
    }
   ],
   "source": [
    "name2.rstrip( )"
   ]
  },
  {
   "cell_type": "code",
   "execution_count": 37,
   "id": "bb3a2903-69b3-4ed9-9634-35db66283f06",
   "metadata": {},
   "outputs": [
    {
     "data": {
      "text/plain": [
       "'subodh   waghmode'"
      ]
     },
     "execution_count": 37,
     "metadata": {},
     "output_type": "execute_result"
    }
   ],
   "source": [
    "name2.strip()"
   ]
  },
  {
   "cell_type": "markdown",
   "id": "927d909c-304a-4666-b93b-063c445529e2",
   "metadata": {},
   "source": [
    "name3 = \"  subodh  \"\n"
   ]
  },
  {
   "cell_type": "code",
   "execution_count": 49,
   "id": "dd8c5925-42d5-47d2-8e61-03f30ea76898",
   "metadata": {},
   "outputs": [],
   "source": [
    "# bring this output\n",
    "# **** subodh ****"
   ]
  },
  {
   "cell_type": "code",
   "execution_count": 51,
   "id": "49f97533-2a3a-4e6d-a627-c9a5ef0de15c",
   "metadata": {},
   "outputs": [],
   "source": [
    "name3 = \"subodh\""
   ]
  },
  {
   "cell_type": "code",
   "execution_count": 52,
   "id": "3463acfa-f428-48a7-9931-fd4b7f5ec96c",
   "metadata": {},
   "outputs": [
    {
     "data": {
      "text/plain": [
       "'subodh'"
      ]
     },
     "execution_count": 52,
     "metadata": {},
     "output_type": "execute_result"
    }
   ],
   "source": [
    "name3"
   ]
  },
  {
   "cell_type": "code",
   "execution_count": 60,
   "id": "1e606032-43ca-4259-bd59-d1afef364966",
   "metadata": {},
   "outputs": [
    {
     "data": {
      "text/plain": [
       "'**********************subodh**********************'"
      ]
     },
     "execution_count": 60,
     "metadata": {},
     "output_type": "execute_result"
    }
   ],
   "source": [
    "name3.center(50,'*')"
   ]
  },
  {
   "cell_type": "code",
   "execution_count": 54,
   "id": "79c41428-6473-4ebd-8a48-f8c2f489cfc1",
   "metadata": {},
   "outputs": [],
   "source": [
    "name4 = \"sarthak\""
   ]
  },
  {
   "cell_type": "code",
   "execution_count": 55,
   "id": "0446b24e-2e80-4707-9e2d-923507f70c78",
   "metadata": {},
   "outputs": [
    {
     "data": {
      "text/plain": [
       "'sarthak'"
      ]
     },
     "execution_count": 55,
     "metadata": {},
     "output_type": "execute_result"
    }
   ],
   "source": [
    "name4"
   ]
  },
  {
   "cell_type": "code",
   "execution_count": 56,
   "id": "6603c814-0631-4322-ad4a-68a963cff6c7",
   "metadata": {},
   "outputs": [
    {
     "data": {
      "text/plain": [
       "True"
      ]
     },
     "execution_count": 56,
     "metadata": {},
     "output_type": "execute_result"
    }
   ],
   "source": [
    "name4.islower()"
   ]
  },
  {
   "cell_type": "code",
   "execution_count": 58,
   "id": "07219f17-7977-4701-a8d6-2ff283187f95",
   "metadata": {},
   "outputs": [
    {
     "data": {
      "text/plain": [
       "False"
      ]
     },
     "execution_count": 58,
     "metadata": {},
     "output_type": "execute_result"
    }
   ],
   "source": [
    "name4.isupper()"
   ]
  },
  {
   "cell_type": "code",
   "execution_count": null,
   "id": "129261bf-0e7d-4cb3-94f1-9906117e42e7",
   "metadata": {},
   "outputs": [],
   "source": [
    "name5= \"shreya"
   ]
  }
 ],
 "metadata": {
  "kernelspec": {
   "display_name": "Python 3 (ipykernel)",
   "language": "python",
   "name": "python3"
  },
  "language_info": {
   "codemirror_mode": {
    "name": "ipython",
    "version": 3
   },
   "file_extension": ".py",
   "mimetype": "text/x-python",
   "name": "python",
   "nbconvert_exporter": "python",
   "pygments_lexer": "ipython3",
   "version": "3.12.4"
  }
 },
 "nbformat": 4,
 "nbformat_minor": 5
}
