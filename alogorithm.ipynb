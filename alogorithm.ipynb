{
 "cells": [
  {
   "cell_type": "code",
   "execution_count": 1,
   "id": "1d723308-f2d1-4c7c-bf4e-b312fb1948a7",
   "metadata": {},
   "outputs": [],
   "source": [
    "a = 2"
   ]
  },
  {
   "cell_type": "code",
   "execution_count": 4,
   "id": "19d420d1-822e-42b6-8593-974cdfd0b7a9",
   "metadata": {},
   "outputs": [
    {
     "name": "stdout",
     "output_type": "stream",
     "text": [
      "2\n"
     ]
    }
   ],
   "source": [
    "# library funtion or inbild function\n",
    "print(a)"
   ]
  },
  {
   "cell_type": "code",
   "execution_count": 5,
   "id": "cd4668de-0b1c-4133-af21-9e6200d3b98a",
   "metadata": {},
   "outputs": [
    {
     "name": "stdout",
     "output_type": "stream",
     "text": [
      "subodh waghmode\n"
     ]
    }
   ],
   "source": [
    "print(\"subodh waghmode\")"
   ]
  },
  {
   "cell_type": "code",
   "execution_count": 7,
   "id": "7a212743-f9e2-4d1a-8370-6e6219a29c4f",
   "metadata": {},
   "outputs": [],
   "source": [
    "name = \"subodh waghmode\""
   ]
  },
  {
   "cell_type": "code",
   "execution_count": 9,
   "id": "33616dab-4225-4458-951c-f66db1da5c9f",
   "metadata": {},
   "outputs": [
    {
     "name": "stdout",
     "output_type": "stream",
     "text": [
      "subodh waghmode\n"
     ]
    }
   ],
   "source": [
    "print(name)"
   ]
  },
  {
   "cell_type": "code",
   "execution_count": 10,
   "id": "681c6949-8ad4-46fd-8219-228f8978c372",
   "metadata": {},
   "outputs": [
    {
     "data": {
      "text/plain": [
       "'subodh waghmode'"
      ]
     },
     "execution_count": 10,
     "metadata": {},
     "output_type": "execute_result"
    }
   ],
   "source": [
    "name"
   ]
  },
  {
   "cell_type": "code",
   "execution_count": 15,
   "id": "58cfb8da-8279-416d-8359-75bdfd74d5cd",
   "metadata": {},
   "outputs": [],
   "source": [
    "a,b,c=4,5,7"
   ]
  },
  {
   "cell_type": "code",
   "execution_count": 17,
   "id": "86726324-ba87-4f8f-8dff-ee068769177c",
   "metadata": {},
   "outputs": [],
   "source": [
    "a = b = c = 7"
   ]
  },
  {
   "cell_type": "code",
   "execution_count": 20,
   "id": "fa60fdf5-a01f-45bd-a46a-922e99927f33",
   "metadata": {},
   "outputs": [
    {
     "name": "stdout",
     "output_type": "stream",
     "text": [
      "7 7 7\n"
     ]
    }
   ],
   "source": [
    "print(a,b,c)"
   ]
  },
  {
   "cell_type": "code",
   "execution_count": null,
   "id": "43485ab6-3672-416d-beb5-9f7a7cbb394c",
   "metadata": {},
   "outputs": [],
   "source": [
    "o/p-->7,,7,7"
   ]
  },
  {
   "cell_type": "code",
   "execution_count": 26,
   "id": "2eef9064-2217-43e2-9d06-be4fe87b62fc",
   "metadata": {},
   "outputs": [
    {
     "name": "stdout",
     "output_type": "stream",
     "text": [
      "7 , 7 , 7\n"
     ]
    }
   ],
   "source": [
    "print(a ,b ,c, sep=' , ')"
   ]
  },
  {
   "cell_type": "code",
   "execution_count": 27,
   "id": "d0a640f6-053e-493d-89e3-d174480bf484",
   "metadata": {},
   "outputs": [
    {
     "name": "stdout",
     "output_type": "stream",
     "text": [
      "7@7@7\n"
     ]
    }
   ],
   "source": [
    "print(a,b,c, sep='@')"
   ]
  },
  {
   "cell_type": "code",
   "execution_count": 28,
   "id": "033d5128-26f1-431b-95cc-2c6d4314d1fd",
   "metadata": {},
   "outputs": [
    {
     "name": "stdout",
     "output_type": "stream",
     "text": [
      "45,67,89\n"
     ]
    }
   ],
   "source": [
    "print (45,67,89,sep = ',')"
   ]
  },
  {
   "cell_type": "code",
   "execution_count": 36,
   "id": "2e00da19-cae9-457f-a588-52ff94e65378",
   "metadata": {},
   "outputs": [
    {
     "name": "stdout",
     "output_type": "stream",
     "text": [
      "shivraj gadge\tvaishnavi sharma\n"
     ]
    }
   ],
   "source": [
    "print(\"shivraj gadge\" ,end ='\\t')\n",
    "print(\"vaishnavi sharma\")"
   ]
  },
  {
   "cell_type": "code",
   "execution_count": 41,
   "id": "c35d0580-6efe-496a-971f-e79b82312806",
   "metadata": {},
   "outputs": [
    {
     "name": "stdout",
     "output_type": "stream",
     "text": [
      "enter two no.\n"
     ]
    },
    {
     "name": "stdin",
     "output_type": "stream",
     "text": [
      "7 987\n",
      "7 0897\n"
     ]
    },
    {
     "name": "stdout",
     "output_type": "stream",
     "text": [
      "14\n"
     ]
    }
   ],
   "source": [
    "# write code for to add 2 nos.\n",
    "print(\"enter two no.\")\n",
    "input (a)\n",
    "input (b)\n",
    "c = a+b\n",
    "print(c)\n"
   ]
  },
  {
   "cell_type": "code",
   "execution_count": 43,
   "id": "0aea8807-b846-4a15-b167-d085ae95aec4",
   "metadata": {},
   "outputs": [
    {
     "name": "stdout",
     "output_type": "stream",
     "text": [
      "enter two nos \n"
     ]
    },
    {
     "name": "stdin",
     "output_type": "stream",
     "text": [
      "input the value of a 986\n",
      "input the value of b 653\n"
     ]
    },
    {
     "name": "stdout",
     "output_type": "stream",
     "text": [
      "1639\n"
     ]
    }
   ],
   "source": [
    "print(\"enter two nos \")\n",
    "a = int(input(\"input the value of a\"))\n",
    "b = int(input(\"input the value of b\"))            \n",
    "c = a+b\n",
    "print(c)\n",
    "\n"
   ]
  },
  {
   "cell_type": "code",
   "execution_count": null,
   "id": "3707864b-a0af-441d-b140-693083cdfde5",
   "metadata": {},
   "outputs": [],
   "source": []
  }
 ],
 "metadata": {
  "kernelspec": {
   "display_name": "Python 3 (ipykernel)",
   "language": "python",
   "name": "python3"
  },
  "language_info": {
   "codemirror_mode": {
    "name": "ipython",
    "version": 3
   },
   "file_extension": ".py",
   "mimetype": "text/x-python",
   "name": "python",
   "nbconvert_exporter": "python",
   "pygments_lexer": "ipython3",
   "version": "3.12.4"
  }
 },
 "nbformat": 4,
 "nbformat_minor": 5
}
