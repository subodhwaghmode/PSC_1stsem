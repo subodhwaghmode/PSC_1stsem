{
 "cells": [
  {
   "cell_type": "code",
   "execution_count": 8,
   "id": "19a2c695-e9f9-4063-aa9b-7b090d5edf0e",
   "metadata": {},
   "outputs": [],
   "source": [
    "a = []"
   ]
  },
  {
   "cell_type": "code",
   "execution_count": 10,
   "id": "87970a71-5c15-4753-b1ab-b02ced6b3872",
   "metadata": {},
   "outputs": [
    {
     "data": {
      "text/plain": [
       "list"
      ]
     },
     "execution_count": 10,
     "metadata": {},
     "output_type": "execute_result"
    }
   ],
   "source": [
    "type(a)"
   ]
  },
  {
   "cell_type": "code",
   "execution_count": 15,
   "id": "95dede18-e43a-498c-ac75-788c11de6993",
   "metadata": {},
   "outputs": [],
   "source": [
    "a = [2,67,34,\"Dipti\",56.7,True,\"Aditi\",678]"
   ]
  },
  {
   "cell_type": "code",
   "execution_count": 16,
   "id": "7142df60-2722-425f-a353-edd0c1577b49",
   "metadata": {},
   "outputs": [
    {
     "data": {
      "text/plain": [
       "list"
      ]
     },
     "execution_count": 16,
     "metadata": {},
     "output_type": "execute_result"
    }
   ],
   "source": [
    "type(a)"
   ]
  },
  {
   "cell_type": "code",
   "execution_count": 17,
   "id": "d902d69b-67e2-4d7d-9807-20912916f99e",
   "metadata": {},
   "outputs": [],
   "source": [
    "# Access 56.7 from a"
   ]
  },
  {
   "cell_type": "code",
   "execution_count": 18,
   "id": "3f9e7e30-bd75-4cba-b625-f5c8ad6c8bf2",
   "metadata": {},
   "outputs": [
    {
     "data": {
      "text/plain": [
       "True"
      ]
     },
     "execution_count": 18,
     "metadata": {},
     "output_type": "execute_result"
    }
   ],
   "source": [
    "a[5]"
   ]
  },
  {
   "cell_type": "code",
   "execution_count": 19,
   "id": "30ced8c6-2387-4a78-8c1c-1c83b0da121b",
   "metadata": {},
   "outputs": [
    {
     "data": {
      "text/plain": [
       "56.7"
      ]
     },
     "execution_count": 19,
     "metadata": {},
     "output_type": "execute_result"
    }
   ],
   "source": [
    "a[4]"
   ]
  },
  {
   "cell_type": "code",
   "execution_count": 20,
   "id": "24ca06af-4f07-4641-b361-2d22c7658d5e",
   "metadata": {},
   "outputs": [
    {
     "data": {
      "text/plain": [
       "'Aditi'"
      ]
     },
     "execution_count": 20,
     "metadata": {},
     "output_type": "execute_result"
    }
   ],
   "source": [
    "a[6]"
   ]
  },
  {
   "cell_type": "code",
   "execution_count": 21,
   "id": "955f9cc9-53fa-4c9f-a136-c157a7d84a2c",
   "metadata": {},
   "outputs": [
    {
     "data": {
      "text/plain": [
       "'Dipti'"
      ]
     },
     "execution_count": 21,
     "metadata": {},
     "output_type": "execute_result"
    }
   ],
   "source": [
    "a[-5]"
   ]
  },
  {
   "cell_type": "code",
   "execution_count": 23,
   "id": "6e5f2a8a-ac40-40e8-bec5-bf58120cbf68",
   "metadata": {},
   "outputs": [
    {
     "data": {
      "text/plain": [
       "678"
      ]
     },
     "execution_count": 23,
     "metadata": {},
     "output_type": "execute_result"
    }
   ],
   "source": [
    "a[7]"
   ]
  },
  {
   "cell_type": "code",
   "execution_count": null,
   "id": "80b31e14-2ba4-486e-a1a4-1d7eb03ea6f5",
   "metadata": {},
   "outputs": [],
   "source": []
  }
 ],
 "metadata": {
  "kernelspec": {
   "display_name": "Python 3 (ipykernel)",
   "language": "python",
   "name": "python3"
  },
  "language_info": {
   "codemirror_mode": {
    "name": "ipython",
    "version": 3
   },
   "file_extension": ".py",
   "mimetype": "text/x-python",
   "name": "python",
   "nbconvert_exporter": "python",
   "pygments_lexer": "ipython3",
   "version": "3.12.4"
  }
 },
 "nbformat": 4,
 "nbformat_minor": 5
}
