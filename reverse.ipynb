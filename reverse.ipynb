{
 "cells": [
  {
   "cell_type": "code",
   "execution_count": 9,
   "id": "8843b2c0-44d2-4c56-a328-13b8b16bb202",
   "metadata": {},
   "outputs": [],
   "source": [
    "name=\"prassana babar\""
   ]
  },
  {
   "cell_type": "code",
   "execution_count": 10,
   "id": "3615036c-7e8d-47f5-9b5e-e61e56c15a75",
   "metadata": {},
   "outputs": [
    {
     "data": {
      "text/plain": [
       "'prassana babar'"
      ]
     },
     "execution_count": 10,
     "metadata": {},
     "output_type": "execute_result"
    }
   ],
   "source": [
    "name"
   ]
  },
  {
   "cell_type": "code",
   "execution_count": 11,
   "id": "b2afea96-3895-4adc-857f-882f1e69eacb",
   "metadata": {},
   "outputs": [
    {
     "data": {
      "text/plain": [
       "'n'"
      ]
     },
     "execution_count": 11,
     "metadata": {},
     "output_type": "execute_result"
    }
   ],
   "source": [
    "name[6]"
   ]
  },
  {
   "cell_type": "code",
   "execution_count": 12,
   "id": "b0d8290e-6898-406d-9088-e30dd1201c87",
   "metadata": {},
   "outputs": [
    {
     "data": {
      "text/plain": [
       "'rabab anassarp'"
      ]
     },
     "execution_count": 12,
     "metadata": {},
     "output_type": "execute_result"
    }
   ],
   "source": [
    "name[-1:-15:-1]"
   ]
  },
  {
   "cell_type": "code",
   "execution_count": 15,
   "id": "35be9915-b514-4a99-acd6-e39bc5fb3a80",
   "metadata": {},
   "outputs": [
    {
     "data": {
      "text/plain": [
       "' anass'"
      ]
     },
     "execution_count": 15,
     "metadata": {},
     "output_type": "execute_result"
    }
   ],
   "source": [
    "name[-6:2:-1]"
   ]
  },
  {
   "cell_type": "code",
   "execution_count": 18,
   "id": "6aa470de-822c-484d-bee2-4807ca54f3cf",
   "metadata": {},
   "outputs": [
    {
     "data": {
      "text/plain": [
       "''"
      ]
     },
     "execution_count": 18,
     "metadata": {},
     "output_type": "execute_result"
    }
   ],
   "source": [
    "name[-5:3:1]"
   ]
  },
  {
   "cell_type": "code",
   "execution_count": 20,
   "id": "7359784e-c8fd-475c-9bf8-aca2aa57f7b3",
   "metadata": {},
   "outputs": [
    {
     "data": {
      "text/plain": [
       "''"
      ]
     },
     "execution_count": 20,
     "metadata": {},
     "output_type": "execute_result"
    }
   ],
   "source": [
    "name[-9:10:-1]"
   ]
  },
  {
   "cell_type": "code",
   "execution_count": 21,
   "id": "c4edcf12-c1e5-4ea3-8674-75a4b683ddf2",
   "metadata": {},
   "outputs": [
    {
     "data": {
      "text/plain": [
       "'na ba'"
      ]
     },
     "execution_count": 21,
     "metadata": {},
     "output_type": "execute_result"
    }
   ],
   "source": [
    "name[-8:11]"
   ]
  },
  {
   "cell_type": "code",
   "execution_count": 22,
   "id": "cd52bfae-2fd3-4c3d-845f-3aad456a0d62",
   "metadata": {},
   "outputs": [
    {
     "data": {
      "text/plain": [
       "'na bab'"
      ]
     },
     "execution_count": 22,
     "metadata": {},
     "output_type": "execute_result"
    }
   ],
   "source": [
    "name[6:-2]"
   ]
  },
  {
   "cell_type": "code",
   "execution_count": 23,
   "id": "6afa4488-939d-46ad-8362-1777f2b4fbd3",
   "metadata": {},
   "outputs": [
    {
     "data": {
      "text/plain": [
       "'raasr'"
      ]
     },
     "execution_count": 23,
     "metadata": {},
     "output_type": "execute_result"
    }
   ],
   "source": [
    "name[13:-14:-3]"
   ]
  },
  {
   "cell_type": "code",
   "execution_count": 24,
   "id": "368e69be-bcd3-49e8-a3bb-cef905ba870b",
   "metadata": {},
   "outputs": [
    {
     "data": {
      "text/plain": [
       "'na'"
      ]
     },
     "execution_count": 24,
     "metadata": {},
     "output_type": "execute_result"
    }
   ],
   "source": [
    "name[-8:8]"
   ]
  },
  {
   "cell_type": "code",
   "execution_count": 25,
   "id": "9907cca4-b96a-4c5e-afab-1571cb6f4560",
   "metadata": {},
   "outputs": [
    {
     "data": {
      "text/plain": [
       "''"
      ]
     },
     "execution_count": 25,
     "metadata": {},
     "output_type": "execute_result"
    }
   ],
   "source": [
    "name[-9:0:1]"
   ]
  },
  {
   "cell_type": "code",
   "execution_count": 26,
   "id": "d7d06139-7e66-4e76-8a08-23b2138cc19e",
   "metadata": {},
   "outputs": [],
   "source": [
    "name=\"subodh\""
   ]
  },
  {
   "cell_type": "code",
   "execution_count": 30,
   "id": "f918f733-faf4-4972-8445-aadcd071aa79",
   "metadata": {},
   "outputs": [
    {
     "data": {
      "text/plain": [
       "'hdobus'"
      ]
     },
     "execution_count": 30,
     "metadata": {},
     "output_type": "execute_result"
    }
   ],
   "source": [
    "name[-1:-7:-1]"
   ]
  },
  {
   "cell_type": "code",
   "execution_count": 28,
   "id": "39968ff0-04a2-4e0d-a750-e5c541401a9c",
   "metadata": {},
   "outputs": [
    {
     "data": {
      "text/plain": [
       "'hdobus'"
      ]
     },
     "execution_count": 28,
     "metadata": {},
     "output_type": "execute_result"
    }
   ],
   "source": [
    "name[-1: :-1]"
   ]
  },
  {
   "cell_type": "code",
   "execution_count": 35,
   "id": "4151e6d0-956f-47c2-97e7-61f0278c5aa3",
   "metadata": {},
   "outputs": [
    {
     "data": {
      "text/plain": [
       "'subodh08072006'"
      ]
     },
     "execution_count": 35,
     "metadata": {},
     "output_type": "execute_result"
    }
   ],
   "source": [
    "name+\"08072006\""
   ]
  },
  {
   "cell_type": "code",
   "execution_count": 44,
   "id": "15156689-10b6-4f78-b956-37c052a9716b",
   "metadata": {},
   "outputs": [
    {
     "data": {
      "text/plain": [
       "'subodh800'"
      ]
     },
     "execution_count": 44,
     "metadata": {},
     "output_type": "execute_result"
    }
   ],
   "source": [
    "name+str(800)"
   ]
  },
  {
   "cell_type": "code",
   "execution_count": 46,
   "id": "0d19162a-9056-4881-a184-7b07b068eae2",
   "metadata": {},
   "outputs": [
    {
     "data": {
      "text/plain": [
       "6"
      ]
     },
     "execution_count": 46,
     "metadata": {},
     "output_type": "execute_result"
    }
   ],
   "source": [
    "# find the length of name\n",
    "len(name)"
   ]
  },
  {
   "cell_type": "code",
   "execution_count": 56,
   "id": "6f946754-5744-4be6-953b-3ca83cd56336",
   "metadata": {},
   "outputs": [
    {
     "data": {
      "text/plain": [
       "'subodhsubodhsubodhsubodh'"
      ]
     },
     "execution_count": 56,
     "metadata": {},
     "output_type": "execute_result"
    }
   ],
   "source": [
    "name*4"
   ]
  },
  {
   "cell_type": "code",
   "execution_count": 48,
   "id": "43c8337d-c19c-45ea-9ae4-5e5138bab4ad",
   "metadata": {},
   "outputs": [
    {
     "data": {
      "text/plain": [
       "'subodh'"
      ]
     },
     "execution_count": 48,
     "metadata": {},
     "output_type": "execute_result"
    }
   ],
   "source": [
    "name"
   ]
  },
  {
   "cell_type": "code",
   "execution_count": 51,
   "id": "3d144108-53a2-408a-8e59-42d57a6d82d8",
   "metadata": {},
   "outputs": [
    {
     "data": {
      "text/plain": [
       "1"
      ]
     },
     "execution_count": 51,
     "metadata": {},
     "output_type": "execute_result"
    }
   ],
   "source": [
    "name.count('su')"
   ]
  },
  {
   "cell_type": "code",
   "execution_count": 52,
   "id": "45707607-95ca-4f4f-8501-8fa182e63f30",
   "metadata": {},
   "outputs": [
    {
     "data": {
      "text/plain": [
       "['', 'ubodh']"
      ]
     },
     "execution_count": 52,
     "metadata": {},
     "output_type": "execute_result"
    }
   ],
   "source": [
    "name.split('s')"
   ]
  },
  {
   "cell_type": "code",
   "execution_count": 53,
   "id": "135a750f-fd49-40f1-b71d-6c32e1905c11",
   "metadata": {},
   "outputs": [
    {
     "data": {
      "text/plain": [
       "list"
      ]
     },
     "execution_count": 53,
     "metadata": {},
     "output_type": "execute_result"
    }
   ],
   "source": [
    "type(name.split('s'))"
   ]
  },
  {
   "cell_type": "code",
   "execution_count": 67,
   "id": "816d7855-4d58-4d6d-ad77-11eb894d24ce",
   "metadata": {},
   "outputs": [
    {
     "data": {
      "text/plain": [
       "['Lorem',\n",
       " 'Ipsum',\n",
       " 'is',\n",
       " 'simply',\n",
       " 'dummy',\n",
       " 'text',\n",
       " 'of',\n",
       " 'the',\n",
       " 'printing',\n",
       " 'and',\n",
       " 'typesetting',\n",
       " 'industry.',\n",
       " 'Lorem',\n",
       " 'Ipsum',\n",
       " 'has',\n",
       " 'been',\n",
       " 'the',\n",
       " \"industry's\",\n",
       " 'standard',\n",
       " 'dummy',\n",
       " 'text',\n",
       " 'ever',\n",
       " 'since',\n",
       " 'the',\n",
       " '1500s,',\n",
       " 'when',\n",
       " 'an',\n",
       " 'unknown',\n",
       " 'printer',\n",
       " 'took',\n",
       " 'a',\n",
       " 'galley',\n",
       " 'of',\n",
       " 'type',\n",
       " 'and',\n",
       " 'scrambled',\n",
       " 'it',\n",
       " 'to',\n",
       " 'make',\n",
       " 'a',\n",
       " 'type',\n",
       " 'specimen',\n",
       " 'book.',\n",
       " 'It',\n",
       " 'has',\n",
       " 'survived',\n",
       " 'not',\n",
       " 'only',\n",
       " 'five',\n",
       " 'centuries,',\n",
       " 'but',\n",
       " 'also',\n",
       " 'the',\n",
       " 'leap',\n",
       " 'into',\n",
       " 'electronic',\n",
       " 'typesetting,',\n",
       " 'remaining',\n",
       " 'essentially',\n",
       " 'unchanged.',\n",
       " 'It',\n",
       " 'was',\n",
       " 'popularised',\n",
       " 'in',\n",
       " 'the',\n",
       " '1960s',\n",
       " 'with',\n",
       " 'the',\n",
       " 'release',\n",
       " 'of',\n",
       " 'Letraset',\n",
       " 'sheets',\n",
       " 'containing',\n",
       " 'Lorem',\n",
       " 'Ipsum',\n",
       " 'passages,',\n",
       " 'and',\n",
       " 'more',\n",
       " 'recently',\n",
       " 'with',\n",
       " 'desktop',\n",
       " 'publishing',\n",
       " 'software',\n",
       " 'like',\n",
       " 'Aldus',\n",
       " 'PageMaker',\n",
       " 'including',\n",
       " 'versions',\n",
       " 'of',\n",
       " 'Lorem',\n",
       " 'Ipsum']"
      ]
     },
     "execution_count": 67,
     "metadata": {},
     "output_type": "execute_result"
    }
   ],
   "source": [
    "#divide name 1 into list\n",
    "# i 'Loren' ,\n",
    "# 'Ipuse',\n",
    "# ...]\n",
    "name2.split(' ')"
   ]
  },
  {
   "cell_type": "code",
   "execution_count": 65,
   "id": "91d85c4c-4d51-46ea-80c8-48c6057f705c",
   "metadata": {},
   "outputs": [
    {
     "data": {
      "text/plain": [
       "\"Lorem Ipsum is simply dummy text of the printing and typesetting industry. Lorem Ipsum has been the industry's standard dummy text ever since the 1500s, when an unknown printer took a galley of type and scrambled it to make a type specimen book. It has survived not only five centuries, but also the leap into electronic typesetting, remaining essentially unchanged. It was popularised in the 1960s with the release of Letraset sheets containing Lorem Ipsum passages, and more recently with desktop publishing software like Aldus PageMaker including versions of Lorem Ipsum\""
      ]
     },
     "execution_count": 65,
     "metadata": {},
     "output_type": "execute_result"
    }
   ],
   "source": [
    "\"Lorem Ipsum is simply dummy text of the printing and typesetting industry. Lorem Ipsum has been the industry's standard dummy text ever since the 1500s, when an unknown printer took a galley of type and scrambled it to make a type specimen book. It has survived not only five centuries, but also the leap into electronic typesetting, remaining essentially unchanged. It was popularised in the 1960s with the release of Letraset sheets containing Lorem Ipsum passages, and more recently with desktop publishing software like Aldus PageMaker including versions of Lorem Ipsum\""
   ]
  },
  {
   "cell_type": "code",
   "execution_count": null,
   "id": "9dbfc152-3974-43d5-86f2-054cfc6d83c5",
   "metadata": {},
   "outputs": [],
   "source": []
  }
 ],
 "metadata": {
  "kernelspec": {
   "display_name": "Python 3 (ipykernel)",
   "language": "python",
   "name": "python3"
  },
  "language_info": {
   "codemirror_mode": {
    "name": "ipython",
    "version": 3
   },
   "file_extension": ".py",
   "mimetype": "text/x-python",
   "name": "python",
   "nbconvert_exporter": "python",
   "pygments_lexer": "ipython3",
   "version": "3.12.4"
  }
 },
 "nbformat": 4,
 "nbformat_minor": 5
}
